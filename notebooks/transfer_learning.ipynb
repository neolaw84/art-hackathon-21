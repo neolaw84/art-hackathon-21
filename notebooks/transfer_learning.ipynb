{
 "cells": [
  {
   "cell_type": "markdown",
   "metadata": {},
   "source": [
    "# Art Hackathon 2021\n",
    "\n",
    "## Background\n",
    "\n",
    "We are to host a fun-event, where entries using Arbitrary Art Style Transfer (AAST) from the teams to be judged. \n",
    "\n",
    "### References\n",
    "\n",
    "* [The original paper (abs)](https://arxiv.org/abs/1705.06830)\n",
    "* [The original paper (pdf)](https://arxiv.org/pdf/1705.06830.pdf)\n",
    "* [The code (github)][https://github.com/magenta/magenta/tree/main/magenta/models/arbitrary_image_stylization]\n",
    "* Pre-requisites \n",
    "    * [Tensorflow](https://tensorflow.org)\n",
    "    * [Magenta Package](https://github.com/magenta/magenta)\n",
    "    * [Tensorflow-slim contrib](https://github.com/google-research/tf-slim)\n",
    "\n",
    "## Objectives\n",
    "\n",
    "The first objective we are trying to achieve is to prove that a transfer-learning of an existing style transfer model is feasible. "
   ]
  },
  {
   "cell_type": "markdown",
   "metadata": {},
   "source": [
    "## Step 1 : Test the Trained Model\n",
    "\n",
    "1. Download the trained model\n",
    "2. Clone the whole magenta project\n",
    "3. Try to transfer style"
   ]
  },
  {
   "cell_type": "code",
   "execution_count": 7,
   "metadata": {},
   "outputs": [
    {
     "name": "stdout",
     "output_type": "stream",
     "text": [
      "--2021-12-04 23:30:50--  https://storage.googleapis.com/download.magenta.tensorflow.org/models/arbitrary_style_transfer.tar.gz\n",
      "Resolving storage.googleapis.com (storage.googleapis.com)... 142.250.71.80, 142.250.67.16, 142.250.66.240, ...\n",
      "Connecting to storage.googleapis.com (storage.googleapis.com)|142.250.71.80|:443... connected.\n",
      "HTTP request sent, awaiting response... 200 OK\n",
      "Length: 635651017 (606M) [application/gzip]\n",
      "Saving to: ‘../data/arbitrary_style_transfer.tar.gz’\n",
      "\n",
      "../data/arbitrary_s 100%[===================>] 606.20M   342MB/s    in 1.8s    \n",
      "\n",
      "2021-12-04 23:30:52 (342 MB/s) - ‘../data/arbitrary_style_transfer.tar.gz’ saved [635651017/635651017]\n",
      "\n",
      "arbitrary_style_transfer/\n",
      "arbitrary_style_transfer/model.ckpt.index\n",
      "arbitrary_style_transfer/model.ckpt.data-00000-of-00001\n",
      "arbitrary_style_transfer/model.ckpt.meta\n"
     ]
    }
   ],
   "source": [
    "# Firstly, we will download the trained model and untar\n",
    "\n",
    "!wget https://storage.googleapis.com/download.magenta.tensorflow.org/models/arbitrary_style_transfer.tar.gz -O ../data/arbitrary_style_transfer.tar.gz\n",
    "!tar -xvf ../data/arbitrary_style_transfer.tar.gz -C ../data/"
   ]
  },
  {
   "cell_type": "code",
   "execution_count": 9,
   "metadata": {},
   "outputs": [
    {
     "name": "stdout",
     "output_type": "stream",
     "text": [
      "Cloning into '../magenta'...\n",
      "remote: Enumerating objects: 15272, done.\u001b[K\n",
      "remote: Counting objects: 100% (143/143), done.\u001b[K\n",
      "remote: Compressing objects: 100% (88/88), done.\u001b[K\n",
      "remote: Total 15272 (delta 64), reused 111 (delta 55), pack-reused 15129\u001b[K\n",
      "Receiving objects: 100% (15272/15272), 36.27 MiB | 13.24 MiB/s, done.\n",
      "Resolving deltas: 100% (11495/11495), done.\n"
     ]
    }
   ],
   "source": [
    "# Secondly, we clone the whole magenta project\n",
    "\n",
    "!git clone https://github.com/magenta/magenta ../magenta"
   ]
  },
  {
   "cell_type": "code",
   "execution_count": 12,
   "metadata": {},
   "outputs": [
    {
     "name": "stderr",
     "output_type": "stream",
     "text": [
      "/home/neolaw_gmail_com/anaconda3/envs/py38-art/lib/python3.8/site-packages/tensorflow/python/keras/engine/base_layer_v1.py:1694: UserWarning: `layer.apply` is deprecated and will be removed in a future version. Please use `layer.__call__` method instead.\n",
      "  warnings.warn('`layer.apply` is deprecated and '\n"
     ]
    },
    {
     "name": "stdout",
     "output_type": "stream",
     "text": [
      "INFO:tensorflow:loading latest checkpoint file: ../data/arbitrary_style_transfer/model.ckpt\n"
     ]
    },
    {
     "name": "stderr",
     "output_type": "stream",
     "text": [
      "I1205 00:24:05.524281 140647138423168 arbitrary_image_stylization_with_weights.py:94] loading latest checkpoint file: ../data/arbitrary_style_transfer/model.ckpt\n"
     ]
    },
    {
     "name": "stdout",
     "output_type": "stream",
     "text": [
      "INFO:tensorflow:Restoring parameters from ../data/arbitrary_style_transfer/model.ckpt\n"
     ]
    },
    {
     "name": "stderr",
     "output_type": "stream",
     "text": [
      "I1205 00:24:05.785350 140647138423168 saver.py:1399] Restoring parameters from ../data/arbitrary_style_transfer/model.ckpt\n"
     ]
    },
    {
     "name": "stdout",
     "output_type": "stream",
     "text": [
      "INFO:tensorflow:Stylizing (0) golden_gate_sq with (0) pink_zigzag\n"
     ]
    },
    {
     "name": "stderr",
     "output_type": "stream",
     "text": [
      "I1205 00:24:06.444671 140647138423168 arbitrary_image_stylization_with_weights.py:138] Stylizing (0) golden_gate_sq with (0) pink_zigzag\n"
     ]
    },
    {
     "name": "stdout",
     "output_type": "stream",
     "text": [
      "INFO:tensorflow:Stylizing (0) golden_gate_sq with (10) towers_1916_sq\n"
     ]
    },
    {
     "name": "stderr",
     "output_type": "stream",
     "text": [
      "I1205 00:24:10.181948 140647138423168 arbitrary_image_stylization_with_weights.py:138] Stylizing (0) golden_gate_sq with (10) towers_1916_sq\n"
     ]
    },
    {
     "name": "stdout",
     "output_type": "stream",
     "text": [
      "INFO:tensorflow:Stylizing (1) colva_beach_sq with (0) pink_zigzag\n"
     ]
    },
    {
     "name": "stderr",
     "output_type": "stream",
     "text": [
      "I1205 00:24:10.579647 140647138423168 arbitrary_image_stylization_with_weights.py:138] Stylizing (1) colva_beach_sq with (0) pink_zigzag\n"
     ]
    },
    {
     "name": "stdout",
     "output_type": "stream",
     "text": [
      "INFO:tensorflow:Stylizing (1) colva_beach_sq with (10) towers_1916_sq\n"
     ]
    },
    {
     "name": "stderr",
     "output_type": "stream",
     "text": [
      "I1205 00:24:13.845209 140647138423168 arbitrary_image_stylization_with_weights.py:138] Stylizing (1) colva_beach_sq with (10) towers_1916_sq\n"
     ]
    },
    {
     "name": "stdout",
     "output_type": "stream",
     "text": [
      "INFO:tensorflow:Stylizing (2) eiffel_tower with (0) pink_zigzag\n"
     ]
    },
    {
     "name": "stderr",
     "output_type": "stream",
     "text": [
      "I1205 00:24:14.258302 140647138423168 arbitrary_image_stylization_with_weights.py:138] Stylizing (2) eiffel_tower with (0) pink_zigzag\n"
     ]
    },
    {
     "name": "stdout",
     "output_type": "stream",
     "text": [
      "INFO:tensorflow:Stylizing (2) eiffel_tower with (10) towers_1916_sq\n"
     ]
    },
    {
     "name": "stderr",
     "output_type": "stream",
     "text": [
      "I1205 00:24:18.186611 140647138423168 arbitrary_image_stylization_with_weights.py:138] Stylizing (2) eiffel_tower with (10) towers_1916_sq\n"
     ]
    },
    {
     "name": "stdout",
     "output_type": "stream",
     "text": [
      "INFO:tensorflow:Stylizing (3) statue_of_liberty_sq with (0) pink_zigzag\n"
     ]
    },
    {
     "name": "stderr",
     "output_type": "stream",
     "text": [
      "I1205 00:24:18.654260 140647138423168 arbitrary_image_stylization_with_weights.py:138] Stylizing (3) statue_of_liberty_sq with (0) pink_zigzag\n"
     ]
    },
    {
     "name": "stdout",
     "output_type": "stream",
     "text": [
      "INFO:tensorflow:Stylizing (3) statue_of_liberty_sq with (10) towers_1916_sq\n"
     ]
    },
    {
     "name": "stderr",
     "output_type": "stream",
     "text": [
      "I1205 00:24:21.968731 140647138423168 arbitrary_image_stylization_with_weights.py:138] Stylizing (3) statue_of_liberty_sq with (10) towers_1916_sq\n"
     ]
    }
   ],
   "source": [
    "# Thirdly, let us try to use the model\n",
    "import tensorflow.compat.v1 as tf\n",
    "\n",
    "from magenta.models.arbitrary_image_stylization import arbitrary_image_stylization_with_weights as aisww\n",
    "\n",
    "aisww.FLAGS.checkpoint = \"../data/arbitrary_style_transfer/model.ckpt\"\n",
    "aisww.FLAGS.output_dir = \"../data/outputs\"\n",
    "aisww.FLAGS.style_images_paths = \"../magenta/magenta/models/arbitrary_image_stylization/images/style_images/*.jpg\"\n",
    "aisww.FLAGS.content_images_paths = \"../magenta/magenta/models/arbitrary_image_stylization/images/content_images/*.jpg\"\n",
    "aisww.FLAGS.image_size = 256\n",
    "aisww.FLAGS.content_square_crop = False\n",
    "aisww.FLAGS.style_image_size = 256\n",
    "aisww.FLAGS.style_square_crop = False\n",
    "aisww.FLAGS.logtostderr = True\n",
    "\n",
    "tf.disable_v2_behavior()\n",
    "\n",
    "# this try-catch is to appease jupyter from the system.exit call by absl\n",
    "\n",
    "try: \n",
    "    tf.app.run(aisww.main)\n",
    "except:\n",
    "    pass\n"
   ]
  },
  {
   "cell_type": "code",
   "execution_count": 11,
   "metadata": {},
   "outputs": [
    {
     "ename": "SystemExit",
     "evalue": "",
     "output_type": "error",
     "traceback": [
      "\u001b[0;31m---------------------------------------------------------------------------\u001b[0m",
      "\u001b[0;31mSystemExit\u001b[0m                                Traceback (most recent call last)",
      "\u001b[0;32m/tmp/ipykernel_41261/2399007816.py\u001b[0m in \u001b[0;36m<module>\u001b[0;34m\u001b[0m\n\u001b[1;32m     15\u001b[0m \u001b[0;34m\u001b[0m\u001b[0m\n\u001b[1;32m     16\u001b[0m \u001b[0mtf\u001b[0m\u001b[0;34m.\u001b[0m\u001b[0mdisable_v2_behavior\u001b[0m\u001b[0;34m(\u001b[0m\u001b[0;34m)\u001b[0m\u001b[0;34m\u001b[0m\u001b[0;34m\u001b[0m\u001b[0m\n\u001b[0;32m---> 17\u001b[0;31m \u001b[0mtf\u001b[0m\u001b[0;34m.\u001b[0m\u001b[0mapp\u001b[0m\u001b[0;34m.\u001b[0m\u001b[0mrun\u001b[0m\u001b[0;34m(\u001b[0m\u001b[0maisww\u001b[0m\u001b[0;34m.\u001b[0m\u001b[0mmain\u001b[0m\u001b[0;34m)\u001b[0m\u001b[0;34m\u001b[0m\u001b[0;34m\u001b[0m\u001b[0m\n\u001b[0m",
      "\u001b[0;32m~/anaconda3/envs/py38-art/lib/python3.8/site-packages/tensorflow/python/platform/app.py\u001b[0m in \u001b[0;36mrun\u001b[0;34m(main, argv)\u001b[0m\n\u001b[1;32m     38\u001b[0m   \u001b[0mmain\u001b[0m \u001b[0;34m=\u001b[0m \u001b[0mmain\u001b[0m \u001b[0;32mor\u001b[0m \u001b[0m_sys\u001b[0m\u001b[0;34m.\u001b[0m\u001b[0mmodules\u001b[0m\u001b[0;34m[\u001b[0m\u001b[0;34m'__main__'\u001b[0m\u001b[0;34m]\u001b[0m\u001b[0;34m.\u001b[0m\u001b[0mmain\u001b[0m\u001b[0;34m\u001b[0m\u001b[0;34m\u001b[0m\u001b[0m\n\u001b[1;32m     39\u001b[0m \u001b[0;34m\u001b[0m\u001b[0m\n\u001b[0;32m---> 40\u001b[0;31m   \u001b[0m_run\u001b[0m\u001b[0;34m(\u001b[0m\u001b[0mmain\u001b[0m\u001b[0;34m=\u001b[0m\u001b[0mmain\u001b[0m\u001b[0;34m,\u001b[0m \u001b[0margv\u001b[0m\u001b[0;34m=\u001b[0m\u001b[0margv\u001b[0m\u001b[0;34m,\u001b[0m \u001b[0mflags_parser\u001b[0m\u001b[0;34m=\u001b[0m\u001b[0m_parse_flags_tolerate_undef\u001b[0m\u001b[0;34m)\u001b[0m\u001b[0;34m\u001b[0m\u001b[0;34m\u001b[0m\u001b[0m\n\u001b[0m",
      "\u001b[0;32m~/anaconda3/envs/py38-art/lib/python3.8/site-packages/absl/app.py\u001b[0m in \u001b[0;36mrun\u001b[0;34m(main, argv, flags_parser)\u001b[0m\n\u001b[1;32m    301\u001b[0m       \u001b[0mcallback\u001b[0m\u001b[0;34m(\u001b[0m\u001b[0;34m)\u001b[0m\u001b[0;34m\u001b[0m\u001b[0;34m\u001b[0m\u001b[0m\n\u001b[1;32m    302\u001b[0m     \u001b[0;32mtry\u001b[0m\u001b[0;34m:\u001b[0m\u001b[0;34m\u001b[0m\u001b[0;34m\u001b[0m\u001b[0m\n\u001b[0;32m--> 303\u001b[0;31m       \u001b[0m_run_main\u001b[0m\u001b[0;34m(\u001b[0m\u001b[0mmain\u001b[0m\u001b[0;34m,\u001b[0m \u001b[0margs\u001b[0m\u001b[0;34m)\u001b[0m\u001b[0;34m\u001b[0m\u001b[0;34m\u001b[0m\u001b[0m\n\u001b[0m\u001b[1;32m    304\u001b[0m     \u001b[0;32mexcept\u001b[0m \u001b[0mUsageError\u001b[0m \u001b[0;32mas\u001b[0m \u001b[0merror\u001b[0m\u001b[0;34m:\u001b[0m\u001b[0;34m\u001b[0m\u001b[0;34m\u001b[0m\u001b[0m\n\u001b[1;32m    305\u001b[0m       \u001b[0musage\u001b[0m\u001b[0;34m(\u001b[0m\u001b[0mshorthelp\u001b[0m\u001b[0;34m=\u001b[0m\u001b[0;32mTrue\u001b[0m\u001b[0;34m,\u001b[0m \u001b[0mdetailed_error\u001b[0m\u001b[0;34m=\u001b[0m\u001b[0merror\u001b[0m\u001b[0;34m,\u001b[0m \u001b[0mexitcode\u001b[0m\u001b[0;34m=\u001b[0m\u001b[0merror\u001b[0m\u001b[0;34m.\u001b[0m\u001b[0mexitcode\u001b[0m\u001b[0;34m)\u001b[0m\u001b[0;34m\u001b[0m\u001b[0;34m\u001b[0m\u001b[0m\n",
      "\u001b[0;32m~/anaconda3/envs/py38-art/lib/python3.8/site-packages/absl/app.py\u001b[0m in \u001b[0;36m_run_main\u001b[0;34m(main, argv)\u001b[0m\n\u001b[1;32m    249\u001b[0m     \u001b[0msys\u001b[0m\u001b[0;34m.\u001b[0m\u001b[0mexit\u001b[0m\u001b[0;34m(\u001b[0m\u001b[0mretval\u001b[0m\u001b[0;34m)\u001b[0m\u001b[0;34m\u001b[0m\u001b[0;34m\u001b[0m\u001b[0m\n\u001b[1;32m    250\u001b[0m   \u001b[0;32melse\u001b[0m\u001b[0;34m:\u001b[0m\u001b[0;34m\u001b[0m\u001b[0;34m\u001b[0m\u001b[0m\n\u001b[0;32m--> 251\u001b[0;31m     \u001b[0msys\u001b[0m\u001b[0;34m.\u001b[0m\u001b[0mexit\u001b[0m\u001b[0;34m(\u001b[0m\u001b[0mmain\u001b[0m\u001b[0;34m(\u001b[0m\u001b[0margv\u001b[0m\u001b[0;34m)\u001b[0m\u001b[0;34m)\u001b[0m\u001b[0;34m\u001b[0m\u001b[0;34m\u001b[0m\u001b[0m\n\u001b[0m\u001b[1;32m    252\u001b[0m \u001b[0;34m\u001b[0m\u001b[0m\n\u001b[1;32m    253\u001b[0m \u001b[0;34m\u001b[0m\u001b[0m\n",
      "\u001b[0;31mSystemExit\u001b[0m: "
     ]
    }
   ],
   "source": [
    "%tb"
   ]
  },
  {
   "cell_type": "code",
   "execution_count": null,
   "metadata": {},
   "outputs": [],
   "source": []
  }
 ],
 "metadata": {
  "interpreter": {
   "hash": "188c9c7688fb483ce45c5c5d98a84ae3ee5a5b8a66a936e183a0c99c1a404646"
  },
  "kernelspec": {
   "display_name": "Python 3.8.12 64-bit ('py38-art': conda)",
   "language": "python",
   "name": "python3"
  },
  "language_info": {
   "codemirror_mode": {
    "name": "ipython",
    "version": 3
   },
   "file_extension": ".py",
   "mimetype": "text/x-python",
   "name": "python",
   "nbconvert_exporter": "python",
   "pygments_lexer": "ipython3",
   "version": "3.8.12"
  },
  "orig_nbformat": 4
 },
 "nbformat": 4,
 "nbformat_minor": 2
}
