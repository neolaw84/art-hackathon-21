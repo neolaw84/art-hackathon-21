{
 "cells": [
  {
   "cell_type": "code",
   "execution_count": 1,
   "metadata": {},
   "outputs": [],
   "source": [
    "import tensorflow_datasets as tfds"
   ]
  },
  {
   "cell_type": "code",
   "execution_count": 2,
   "metadata": {},
   "outputs": [
    {
     "data": {
      "text/plain": [
       "True"
      ]
     },
     "execution_count": 2,
     "metadata": {},
     "output_type": "execute_result"
    }
   ],
   "source": [
    "\"imagenette\" in tfds.list_builders()"
   ]
  },
  {
   "cell_type": "code",
   "execution_count": 3,
   "metadata": {},
   "outputs": [
    {
     "name": "stdout",
     "output_type": "stream",
     "text": [
      "\u001b[1mDownloading and preparing dataset 1.45 GiB (download: 1.45 GiB, generated: 1.46 GiB, total: 2.91 GiB) to /home/neolaw_gmail_com/tensorflow_datasets/imagenette/full-size-v2/1.0.0...\u001b[0m\n"
     ]
    },
    {
     "data": {
      "application/vnd.jupyter.widget-view+json": {
       "model_id": "c915ab249a47499795795ace083036db",
       "version_major": 2,
       "version_minor": 0
      },
      "text/plain": [
       "Dl Completed...: 0 url [00:00, ? url/s]"
      ]
     },
     "metadata": {},
     "output_type": "display_data"
    },
    {
     "data": {
      "application/vnd.jupyter.widget-view+json": {
       "model_id": "5eecb937a1d2420781e31fc3f77f57c5",
       "version_major": 2,
       "version_minor": 0
      },
      "text/plain": [
       "Dl Size...: 0 MiB [00:00, ? MiB/s]"
      ]
     },
     "metadata": {},
     "output_type": "display_data"
    },
    {
     "data": {
      "application/vnd.jupyter.widget-view+json": {
       "model_id": "54beaede54e244d2a33d5eb1ce04cc0b",
       "version_major": 2,
       "version_minor": 0
      },
      "text/plain": [
       "Extraction completed...: 0 file [00:00, ? file/s]"
      ]
     },
     "metadata": {},
     "output_type": "display_data"
    },
    {
     "data": {
      "application/vnd.jupyter.widget-view+json": {
       "model_id": "883e3ded02e24ce48f581beca9abf5f8",
       "version_major": 2,
       "version_minor": 0
      },
      "text/plain": [
       "Generating splits...:   0%|          | 0/2 [00:00<?, ? splits/s]"
      ]
     },
     "metadata": {},
     "output_type": "display_data"
    },
    {
     "data": {
      "application/vnd.jupyter.widget-view+json": {
       "model_id": "fd7aa65df3914fabb184411755be68c3",
       "version_major": 2,
       "version_minor": 0
      },
      "text/plain": [
       "Generating train examples...:   0%|          | 0/9469 [00:00<?, ? examples/s]"
      ]
     },
     "metadata": {},
     "output_type": "display_data"
    },
    {
     "data": {
      "application/vnd.jupyter.widget-view+json": {
       "model_id": "427ef6c7b44745d599e43c889e53ea96",
       "version_major": 2,
       "version_minor": 0
      },
      "text/plain": [
       "Shuffling imagenette-train.tfrecord...:   0%|          | 0/9469 [00:00<?, ? examples/s]"
      ]
     },
     "metadata": {},
     "output_type": "display_data"
    },
    {
     "data": {
      "application/vnd.jupyter.widget-view+json": {
       "model_id": "ebd532a382f64c9997184119b74bda19",
       "version_major": 2,
       "version_minor": 0
      },
      "text/plain": [
       "Generating validation examples...:   0%|          | 0/3925 [00:00<?, ? examples/s]"
      ]
     },
     "metadata": {},
     "output_type": "display_data"
    },
    {
     "data": {
      "application/vnd.jupyter.widget-view+json": {
       "model_id": "ba37f9cbcafb45e0b0fdfce0c14c0d02",
       "version_major": 2,
       "version_minor": 0
      },
      "text/plain": [
       "Shuffling imagenette-validation.tfrecord...:   0%|          | 0/3925 [00:00<?, ? examples/s]"
      ]
     },
     "metadata": {},
     "output_type": "display_data"
    },
    {
     "name": "stdout",
     "output_type": "stream",
     "text": [
      "\u001b[1mDataset imagenette downloaded and prepared to /home/neolaw_gmail_com/tensorflow_datasets/imagenette/full-size-v2/1.0.0. Subsequent calls will reuse this data.\u001b[0m\n"
     ]
    },
    {
     "name": "stderr",
     "output_type": "stream",
     "text": [
      "2021-12-05 03:21:04.550041: I tensorflow/stream_executor/cuda/cuda_gpu_executor.cc:939] successful NUMA node read from SysFS had negative value (-1), but there must be at least one NUMA node, so returning NUMA node zero\n",
      "2021-12-05 03:21:04.594619: W tensorflow/stream_executor/platform/default/dso_loader.cc:64] Could not load dynamic library 'libcudnn.so.8'; dlerror: libcudnn.so.8: cannot open shared object file: No such file or directory; LD_LIBRARY_PATH: /usr/local/cuda-11/lib64:\n",
      "2021-12-05 03:21:04.594643: W tensorflow/core/common_runtime/gpu/gpu_device.cc:1850] Cannot dlopen some GPU libraries. Please make sure the missing libraries mentioned above are installed properly if you would like to use GPU. Follow the guide at https://www.tensorflow.org/install/gpu for how to download and setup the required libraries for your platform.\n",
      "Skipping registering GPU devices...\n",
      "2021-12-05 03:21:04.595504: I tensorflow/core/platform/cpu_feature_guard.cc:151] This TensorFlow binary is optimized with oneAPI Deep Neural Network Library (oneDNN) to use the following CPU instructions in performance-critical operations:  AVX2 FMA\n",
      "To enable them in other operations, rebuild TensorFlow with the appropriate compiler flags.\n"
     ]
    }
   ],
   "source": [
    "ds = tfds.load('imagenette', split='train')"
   ]
  },
  {
   "cell_type": "code",
   "execution_count": 5,
   "metadata": {},
   "outputs": [
    {
     "name": "stdout",
     "output_type": "stream",
     "text": [
      "Collecting ipywidgets\n",
      "  Downloading ipywidgets-7.6.5-py2.py3-none-any.whl (121 kB)\n",
      "     |████████████████████████████████| 121 kB 23.2 MB/s            \n",
      "\u001b[?25hCollecting widgetsnbextension\n",
      "  Downloading widgetsnbextension-3.5.2-py2.py3-none-any.whl (1.6 MB)\n",
      "     |████████████████████████████████| 1.6 MB 94.5 MB/s            \n",
      "\u001b[?25hCollecting pandas-profiling\n",
      "  Downloading pandas_profiling-3.1.0-py2.py3-none-any.whl (261 kB)\n",
      "     |████████████████████████████████| 261 kB 81.3 MB/s            \n",
      "\u001b[?25hCollecting ipython-genutils~=0.2.0\n",
      "  Downloading ipython_genutils-0.2.0-py2.py3-none-any.whl (26 kB)\n",
      "Requirement already satisfied: traitlets>=4.3.1 in /home/neolaw_gmail_com/anaconda3/envs/py38-art/lib/python3.8/site-packages (from ipywidgets) (5.1.1)\n",
      "Collecting jupyterlab-widgets>=1.0.0\n",
      "  Downloading jupyterlab_widgets-1.0.2-py3-none-any.whl (243 kB)\n",
      "     |████████████████████████████████| 243 kB 87.0 MB/s            \n",
      "\u001b[?25hRequirement already satisfied: ipykernel>=4.5.1 in /home/neolaw_gmail_com/anaconda3/envs/py38-art/lib/python3.8/site-packages (from ipywidgets) (6.6.0)\n",
      "Collecting nbformat>=4.2.0\n",
      "  Downloading nbformat-5.1.3-py3-none-any.whl (178 kB)\n",
      "     |████████████████████████████████| 178 kB 72.2 MB/s            \n",
      "\u001b[?25hRequirement already satisfied: ipython>=4.0.0 in /home/neolaw_gmail_com/anaconda3/envs/py38-art/lib/python3.8/site-packages (from ipywidgets) (7.30.1)\n",
      "Collecting notebook>=4.4.1\n",
      "  Downloading notebook-6.4.6-py3-none-any.whl (9.9 MB)\n",
      "     |████████████████████████████████| 9.9 MB 79.8 MB/s            \n",
      "\u001b[?25hRequirement already satisfied: scipy>=1.4.1 in /home/neolaw_gmail_com/anaconda3/envs/py38-art/lib/python3.8/site-packages (from pandas-profiling) (1.7.1)\n",
      "Requirement already satisfied: jinja2>=2.11.1 in /home/neolaw_gmail_com/anaconda3/envs/py38-art/lib/python3.8/site-packages (from pandas-profiling) (3.0.3)\n",
      "Requirement already satisfied: matplotlib>=3.2.0 in /home/neolaw_gmail_com/anaconda3/envs/py38-art/lib/python3.8/site-packages (from pandas-profiling) (3.5.0)\n",
      "Collecting visions[type_image_path]==0.7.4\n",
      "  Downloading visions-0.7.4-py3-none-any.whl (102 kB)\n",
      "     |████████████████████████████████| 102 kB 24.0 MB/s            \n",
      "\u001b[?25hCollecting phik>=0.11.1\n",
      "  Downloading phik-0.12.0-cp38-cp38-manylinux2010_x86_64.whl (676 kB)\n",
      "     |████████████████████████████████| 676 kB 107.2 MB/s            \n",
      "\u001b[?25hRequirement already satisfied: requests>=2.24.0 in /home/neolaw_gmail_com/anaconda3/envs/py38-art/lib/python3.8/site-packages (from pandas-profiling) (2.26.0)\n",
      "Requirement already satisfied: markupsafe~=2.0.1 in /home/neolaw_gmail_com/anaconda3/envs/py38-art/lib/python3.8/site-packages (from pandas-profiling) (2.0.1)\n",
      "Collecting seaborn>=0.10.1\n",
      "  Downloading seaborn-0.11.2-py3-none-any.whl (292 kB)\n",
      "     |████████████████████████████████| 292 kB 99.7 MB/s            \n",
      "\u001b[?25hCollecting htmlmin>=0.1.12\n",
      "  Downloading htmlmin-0.1.12.tar.gz (19 kB)\n",
      "  Preparing metadata (setup.py) ... \u001b[?25ldone\n",
      "\u001b[?25hCollecting pydantic>=1.8.1\n",
      "  Downloading pydantic-1.8.2-cp38-cp38-manylinux2014_x86_64.whl (13.7 MB)\n",
      "     |████████████████████████████████| 13.7 MB 74.7 MB/s            \n",
      "\u001b[?25hRequirement already satisfied: numpy>=1.16.0 in /home/neolaw_gmail_com/anaconda3/envs/py38-art/lib/python3.8/site-packages (from pandas-profiling) (1.21.2)\n",
      "Collecting missingno>=0.4.2\n",
      "  Downloading missingno-0.5.0-py3-none-any.whl (8.8 kB)\n",
      "Collecting tangled-up-in-unicode==0.1.0\n",
      "  Downloading tangled_up_in_unicode-0.1.0-py3-none-any.whl (3.1 MB)\n",
      "     |████████████████████████████████| 3.1 MB 74.2 MB/s            \n",
      "\u001b[?25hRequirement already satisfied: PyYAML>=5.0.0 in /home/neolaw_gmail_com/anaconda3/envs/py38-art/lib/python3.8/site-packages (from pandas-profiling) (6.0)\n",
      "Requirement already satisfied: pandas!=1.0.0,!=1.0.1,!=1.0.2,!=1.1.0,>=0.25.3 in /home/neolaw_gmail_com/anaconda3/envs/py38-art/lib/python3.8/site-packages (from pandas-profiling) (1.3.4)\n",
      "Collecting multimethod>=1.4\n",
      "  Downloading multimethod-1.6-py3-none-any.whl (9.4 kB)\n",
      "Collecting joblib~=1.0.1\n",
      "  Downloading joblib-1.0.1-py3-none-any.whl (303 kB)\n",
      "     |████████████████████████████████| 303 kB 83.2 MB/s            \n",
      "\u001b[?25hRequirement already satisfied: tqdm>=4.48.2 in /home/neolaw_gmail_com/anaconda3/envs/py38-art/lib/python3.8/site-packages (from pandas-profiling) (4.62.3)\n",
      "Requirement already satisfied: attrs>=19.3.0 in /home/neolaw_gmail_com/anaconda3/envs/py38-art/lib/python3.8/site-packages (from visions[type_image_path]==0.7.4->pandas-profiling) (21.2.0)\n",
      "Requirement already satisfied: networkx>=2.4 in /home/neolaw_gmail_com/anaconda3/envs/py38-art/lib/python3.8/site-packages (from visions[type_image_path]==0.7.4->pandas-profiling) (2.6.3)\n",
      "Requirement already satisfied: Pillow in /home/neolaw_gmail_com/anaconda3/envs/py38-art/lib/python3.8/site-packages (from visions[type_image_path]==0.7.4->pandas-profiling) (8.4.0)\n",
      "Collecting imagehash\n",
      "  Downloading ImageHash-4.2.1.tar.gz (812 kB)\n",
      "     |████████████████████████████████| 812 kB 92.3 MB/s            \n",
      "\u001b[?25h  Preparing metadata (setup.py) ... \u001b[?25ldone\n",
      "\u001b[?25hRequirement already satisfied: matplotlib-inline<0.2.0,>=0.1.0 in /home/neolaw_gmail_com/anaconda3/envs/py38-art/lib/python3.8/site-packages (from ipykernel>=4.5.1->ipywidgets) (0.1.3)\n",
      "Requirement already satisfied: tornado<7.0,>=4.2 in /home/neolaw_gmail_com/anaconda3/envs/py38-art/lib/python3.8/site-packages (from ipykernel>=4.5.1->ipywidgets) (6.1)\n",
      "Requirement already satisfied: jupyter-client<8.0 in /home/neolaw_gmail_com/anaconda3/envs/py38-art/lib/python3.8/site-packages (from ipykernel>=4.5.1->ipywidgets) (7.1.0)\n",
      "Requirement already satisfied: debugpy<2.0,>=1.0.0 in /home/neolaw_gmail_com/anaconda3/envs/py38-art/lib/python3.8/site-packages (from ipykernel>=4.5.1->ipywidgets) (1.5.1)\n",
      "Requirement already satisfied: jedi>=0.16 in /home/neolaw_gmail_com/anaconda3/envs/py38-art/lib/python3.8/site-packages (from ipython>=4.0.0->ipywidgets) (0.18.1)\n",
      "Requirement already satisfied: prompt-toolkit!=3.0.0,!=3.0.1,<3.1.0,>=2.0.0 in /home/neolaw_gmail_com/anaconda3/envs/py38-art/lib/python3.8/site-packages (from ipython>=4.0.0->ipywidgets) (3.0.23)\n",
      "Requirement already satisfied: backcall in /home/neolaw_gmail_com/anaconda3/envs/py38-art/lib/python3.8/site-packages (from ipython>=4.0.0->ipywidgets) (0.2.0)\n",
      "Requirement already satisfied: setuptools>=18.5 in /home/neolaw_gmail_com/anaconda3/envs/py38-art/lib/python3.8/site-packages (from ipython>=4.0.0->ipywidgets) (58.0.4)\n",
      "Requirement already satisfied: pexpect>4.3 in /home/neolaw_gmail_com/anaconda3/envs/py38-art/lib/python3.8/site-packages (from ipython>=4.0.0->ipywidgets) (4.8.0)\n",
      "Requirement already satisfied: pygments in /home/neolaw_gmail_com/anaconda3/envs/py38-art/lib/python3.8/site-packages (from ipython>=4.0.0->ipywidgets) (2.10.0)\n",
      "Requirement already satisfied: pickleshare in /home/neolaw_gmail_com/anaconda3/envs/py38-art/lib/python3.8/site-packages (from ipython>=4.0.0->ipywidgets) (0.7.5)\n",
      "Requirement already satisfied: decorator in /home/neolaw_gmail_com/anaconda3/envs/py38-art/lib/python3.8/site-packages (from ipython>=4.0.0->ipywidgets) (5.1.0)\n",
      "Requirement already satisfied: fonttools>=4.22.0 in /home/neolaw_gmail_com/anaconda3/envs/py38-art/lib/python3.8/site-packages (from matplotlib>=3.2.0->pandas-profiling) (4.28.3)\n",
      "Requirement already satisfied: cycler>=0.10 in /home/neolaw_gmail_com/anaconda3/envs/py38-art/lib/python3.8/site-packages (from matplotlib>=3.2.0->pandas-profiling) (0.11.0)\n",
      "Requirement already satisfied: packaging>=20.0 in /home/neolaw_gmail_com/anaconda3/envs/py38-art/lib/python3.8/site-packages (from matplotlib>=3.2.0->pandas-profiling) (21.3)\n",
      "Requirement already satisfied: python-dateutil>=2.7 in /home/neolaw_gmail_com/anaconda3/envs/py38-art/lib/python3.8/site-packages (from matplotlib>=3.2.0->pandas-profiling) (2.8.2)\n",
      "Requirement already satisfied: setuptools-scm>=4 in /home/neolaw_gmail_com/anaconda3/envs/py38-art/lib/python3.8/site-packages (from matplotlib>=3.2.0->pandas-profiling) (6.3.2)\n",
      "Requirement already satisfied: pyparsing>=2.2.1 in /home/neolaw_gmail_com/anaconda3/envs/py38-art/lib/python3.8/site-packages (from matplotlib>=3.2.0->pandas-profiling) (3.0.6)\n",
      "Requirement already satisfied: kiwisolver>=1.0.1 in /home/neolaw_gmail_com/anaconda3/envs/py38-art/lib/python3.8/site-packages (from matplotlib>=3.2.0->pandas-profiling) (1.3.2)\n",
      "Collecting jsonschema!=2.5.0,>=2.4\n",
      "  Downloading jsonschema-4.2.1-py3-none-any.whl (69 kB)\n",
      "     |████████████████████████████████| 69 kB 13.7 MB/s            \n",
      "\u001b[?25hRequirement already satisfied: jupyter-core in /home/neolaw_gmail_com/anaconda3/envs/py38-art/lib/python3.8/site-packages (from nbformat>=4.2.0->ipywidgets) (4.9.1)\n",
      "Collecting terminado>=0.8.3\n",
      "  Downloading terminado-0.12.1-py3-none-any.whl (15 kB)\n",
      "Collecting Send2Trash>=1.8.0\n",
      "  Downloading Send2Trash-1.8.0-py3-none-any.whl (18 kB)\n",
      "Requirement already satisfied: nest-asyncio>=1.5 in /home/neolaw_gmail_com/anaconda3/envs/py38-art/lib/python3.8/site-packages (from notebook>=4.4.1->widgetsnbextension) (1.5.4)\n",
      "Collecting argon2-cffi\n",
      "  Downloading argon2_cffi-21.1.0-cp35-abi3-manylinux_2_5_x86_64.manylinux1_x86_64.whl (96 kB)\n",
      "     |████████████████████████████████| 96 kB 9.2 MB/s             \n",
      "\u001b[?25hCollecting nbconvert\n",
      "  Downloading nbconvert-6.3.0-py3-none-any.whl (556 kB)\n",
      "     |████████████████████████████████| 556 kB 115.8 MB/s            \n",
      "\u001b[?25hRequirement already satisfied: pyzmq>=17 in /home/neolaw_gmail_com/anaconda3/envs/py38-art/lib/python3.8/site-packages (from notebook>=4.4.1->widgetsnbextension) (19.0.2)\n",
      "Collecting prometheus-client\n",
      "  Downloading prometheus_client-0.12.0-py2.py3-none-any.whl (57 kB)\n",
      "     |████████████████████████████████| 57 kB 11.1 MB/s            \n",
      "\u001b[?25hRequirement already satisfied: pytz>=2017.3 in /home/neolaw_gmail_com/anaconda3/envs/py38-art/lib/python3.8/site-packages (from pandas!=1.0.0,!=1.0.1,!=1.0.2,!=1.1.0,>=0.25.3->pandas-profiling) (2021.3)\n",
      "Requirement already satisfied: typing-extensions>=3.7.4.3 in /home/neolaw_gmail_com/anaconda3/envs/py38-art/lib/python3.8/site-packages (from pydantic>=1.8.1->pandas-profiling) (4.0.1)\n",
      "Requirement already satisfied: urllib3<1.27,>=1.21.1 in /home/neolaw_gmail_com/anaconda3/envs/py38-art/lib/python3.8/site-packages (from requests>=2.24.0->pandas-profiling) (1.26.7)\n",
      "Requirement already satisfied: charset-normalizer~=2.0.0 in /home/neolaw_gmail_com/anaconda3/envs/py38-art/lib/python3.8/site-packages (from requests>=2.24.0->pandas-profiling) (2.0.9)\n",
      "Requirement already satisfied: idna<4,>=2.5 in /home/neolaw_gmail_com/anaconda3/envs/py38-art/lib/python3.8/site-packages (from requests>=2.24.0->pandas-profiling) (3.3)\n",
      "Requirement already satisfied: certifi>=2017.4.17 in /home/neolaw_gmail_com/anaconda3/envs/py38-art/lib/python3.8/site-packages (from requests>=2.24.0->pandas-profiling) (2021.10.8)\n",
      "Requirement already satisfied: parso<0.9.0,>=0.8.0 in /home/neolaw_gmail_com/anaconda3/envs/py38-art/lib/python3.8/site-packages (from jedi>=0.16->ipython>=4.0.0->ipywidgets) (0.8.3)\n",
      "Collecting pyrsistent!=0.17.0,!=0.17.1,!=0.17.2,>=0.14.0\n",
      "  Downloading pyrsistent-0.18.0-cp38-cp38-manylinux1_x86_64.whl (118 kB)\n",
      "     |████████████████████████████████| 118 kB 91.9 MB/s            \n",
      "\u001b[?25hRequirement already satisfied: importlib-resources>=1.4.0 in /home/neolaw_gmail_com/anaconda3/envs/py38-art/lib/python3.8/site-packages (from jsonschema!=2.5.0,>=2.4->nbformat>=4.2.0->ipywidgets) (5.4.0)\n",
      "Requirement already satisfied: entrypoints in /home/neolaw_gmail_com/anaconda3/envs/py38-art/lib/python3.8/site-packages (from jupyter-client<8.0->ipykernel>=4.5.1->ipywidgets) (0.3)\n",
      "Requirement already satisfied: ptyprocess>=0.5 in /home/neolaw_gmail_com/anaconda3/envs/py38-art/lib/python3.8/site-packages (from pexpect>4.3->ipython>=4.0.0->ipywidgets) (0.7.0)\n",
      "Requirement already satisfied: wcwidth in /home/neolaw_gmail_com/anaconda3/envs/py38-art/lib/python3.8/site-packages (from prompt-toolkit!=3.0.0,!=3.0.1,<3.1.0,>=2.0.0->ipython>=4.0.0->ipywidgets) (0.2.5)\n",
      "Requirement already satisfied: six>=1.5 in /home/neolaw_gmail_com/anaconda3/envs/py38-art/lib/python3.8/site-packages (from python-dateutil>=2.7->matplotlib>=3.2.0->pandas-profiling) (1.16.0)\n",
      "Requirement already satisfied: tomli>=1.0.0 in /home/neolaw_gmail_com/anaconda3/envs/py38-art/lib/python3.8/site-packages (from setuptools-scm>=4->matplotlib>=3.2.0->pandas-profiling) (1.2.2)\n",
      "Requirement already satisfied: cffi>=1.0.0 in /home/neolaw_gmail_com/anaconda3/envs/py38-art/lib/python3.8/site-packages (from argon2-cffi->notebook>=4.4.1->widgetsnbextension) (1.15.0)\n",
      "Requirement already satisfied: PyWavelets in /home/neolaw_gmail_com/anaconda3/envs/py38-art/lib/python3.8/site-packages (from imagehash->visions[type_image_path]==0.7.4->pandas-profiling) (1.2.0)\n",
      "Collecting jupyterlab-pygments\n",
      "  Downloading jupyterlab_pygments-0.1.2-py2.py3-none-any.whl (4.6 kB)\n",
      "Collecting mistune<2,>=0.8.1\n",
      "  Downloading mistune-0.8.4-py2.py3-none-any.whl (16 kB)\n",
      "Collecting pandocfilters>=1.4.1\n",
      "  Downloading pandocfilters-1.5.0-py2.py3-none-any.whl (8.7 kB)\n",
      "Collecting bleach\n",
      "  Downloading bleach-4.1.0-py2.py3-none-any.whl (157 kB)\n",
      "     |████████████████████████████████| 157 kB 97.0 MB/s            \n",
      "\u001b[?25hCollecting nbclient<0.6.0,>=0.5.0\n",
      "  Downloading nbclient-0.5.9-py3-none-any.whl (69 kB)\n",
      "     |████████████████████████████████| 69 kB 15.9 MB/s            \n",
      "\u001b[?25hCollecting defusedxml\n",
      "  Downloading defusedxml-0.7.1-py2.py3-none-any.whl (25 kB)\n",
      "Collecting testpath\n",
      "  Downloading testpath-0.5.0-py3-none-any.whl (84 kB)\n",
      "     |████████████████████████████████| 84 kB 8.0 MB/s             \n",
      "\u001b[?25hRequirement already satisfied: pycparser in /home/neolaw_gmail_com/anaconda3/envs/py38-art/lib/python3.8/site-packages (from cffi>=1.0.0->argon2-cffi->notebook>=4.4.1->widgetsnbextension) (2.21)\n",
      "Requirement already satisfied: zipp>=3.1.0 in /home/neolaw_gmail_com/anaconda3/envs/py38-art/lib/python3.8/site-packages (from importlib-resources>=1.4.0->jsonschema!=2.5.0,>=2.4->nbformat>=4.2.0->ipywidgets) (3.6.0)\n",
      "Collecting webencodings\n",
      "  Downloading webencodings-0.5.1-py2.py3-none-any.whl (11 kB)\n",
      "Building wheels for collected packages: htmlmin, imagehash\n",
      "  Building wheel for htmlmin (setup.py) ... \u001b[?25ldone\n",
      "\u001b[?25h  Created wheel for htmlmin: filename=htmlmin-0.1.12-py3-none-any.whl size=27098 sha256=c820c391a4f2414f3855747950ff696af499e7a20e3179c3e95c925b9b36d1c4\n",
      "  Stored in directory: /home/neolaw_gmail_com/.cache/pip/wheels/23/14/6e/4be5bfeeb027f4939a01764b48edd5996acf574b0913fe5243\n",
      "  Building wheel for imagehash (setup.py) ... \u001b[?25ldone\n",
      "\u001b[?25h  Created wheel for imagehash: filename=ImageHash-4.2.1-py2.py3-none-any.whl size=295207 sha256=692d0e6c76b8f34b9304a95cf21af891a974ee2964d6e9379fadd1bf6d719a81\n",
      "  Stored in directory: /home/neolaw_gmail_com/.cache/pip/wheels/48/a1/7f/096c1269d6bf78d4768180602579b35a1e8cb1250bb4b40c74\n",
      "Successfully built htmlmin imagehash\n",
      "Installing collected packages: pyrsistent, jsonschema, ipython-genutils, webencodings, nbformat, testpath, pandocfilters, nbclient, mistune, jupyterlab-pygments, defusedxml, bleach, terminado, tangled-up-in-unicode, Send2Trash, prometheus-client, nbconvert, multimethod, argon2-cffi, visions, seaborn, notebook, joblib, imagehash, widgetsnbextension, pydantic, phik, missingno, jupyterlab-widgets, htmlmin, pandas-profiling, ipywidgets\n",
      "  Attempting uninstall: joblib\n",
      "    Found existing installation: joblib 1.1.0\n",
      "    Uninstalling joblib-1.1.0:\n",
      "      Successfully uninstalled joblib-1.1.0\n",
      "Successfully installed Send2Trash-1.8.0 argon2-cffi-21.1.0 bleach-4.1.0 defusedxml-0.7.1 htmlmin-0.1.12 imagehash-4.2.1 ipython-genutils-0.2.0 ipywidgets-7.6.5 joblib-1.0.1 jsonschema-4.2.1 jupyterlab-pygments-0.1.2 jupyterlab-widgets-1.0.2 missingno-0.5.0 mistune-0.8.4 multimethod-1.6 nbclient-0.5.9 nbconvert-6.3.0 nbformat-5.1.3 notebook-6.4.6 pandas-profiling-3.1.0 pandocfilters-1.5.0 phik-0.12.0 prometheus-client-0.12.0 pydantic-1.8.2 pyrsistent-0.18.0 seaborn-0.11.2 tangled-up-in-unicode-0.1.0 terminado-0.12.1 testpath-0.5.0 visions-0.7.4 webencodings-0.5.1 widgetsnbextension-3.5.2\n"
     ]
    }
   ],
   "source": [
    "!pip install ipywidgets widgetsnbextension pandas-profiling"
   ]
  },
  {
   "cell_type": "code",
   "execution_count": null,
   "metadata": {},
   "outputs": [],
   "source": []
  }
 ],
 "metadata": {
  "interpreter": {
   "hash": "188c9c7688fb483ce45c5c5d98a84ae3ee5a5b8a66a936e183a0c99c1a404646"
  },
  "kernelspec": {
   "display_name": "Python 3.8.12 64-bit ('py38-art': conda)",
   "language": "python",
   "name": "python3"
  },
  "language_info": {
   "codemirror_mode": {
    "name": "ipython",
    "version": 3
   },
   "file_extension": ".py",
   "mimetype": "text/x-python",
   "name": "python",
   "nbconvert_exporter": "python",
   "pygments_lexer": "ipython3",
   "version": "3.8.12"
  },
  "orig_nbformat": 4
 },
 "nbformat": 4,
 "nbformat_minor": 2
}
